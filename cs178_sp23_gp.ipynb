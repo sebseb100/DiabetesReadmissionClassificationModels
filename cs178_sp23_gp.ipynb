{
 "cells": [
  {
   "cell_type": "markdown",
   "id": "43b7d466",
   "metadata": {
    "id": "43b7d466"
   },
   "source": [
    "# <center> CS 178: Machine Learning &amp; Data Mining </center>\n",
    "## <center> Group Project: Due Friday 26 May 2023 (11:59pm) </center>\n",
    "### <center> An investigation of classification methods for UCI ML diabetes </center>"
   ]
  },
  {
   "cell_type": "code",
   "execution_count": 1,
   "id": "f788ad34",
   "metadata": {
    "colab": {
     "base_uri": "https://localhost:8080/"
    },
    "id": "f788ad34",
    "outputId": "e6f1442e-c54d-4eaf-b2e3-90ca864d2d3f"
   },
   "outputs": [],
   "source": [
    "import numpy as np\n",
    "import pandas as pd\n",
    "import matplotlib.pyplot as plt\n",
    "\n",
    "from sklearn.datasets import make_classification, load_breast_cancer, load_wine\n",
    "from sklearn.tree import DecisionTreeClassifier, plot_tree\n",
    "from sklearn.model_selection import train_test_split\n",
    "from sklearn.metrics import accuracy_score\n",
    "from sklearn.preprocessing import OneHotEncoder\n",
    "from sklearn.ensemble import GradientBoostingClassifier\n",
    "\n",
    "import warnings\n",
    "warnings.filterwarnings('ignore')\n",
    "\n",
    "seed = 1234\n",
    "np.random.seed(seed)  \n",
    "\n",
    "from sklearn.preprocessing import LabelEncoder\n",
    "\n",
    "import itertools"
   ]
  },
  {
   "cell_type": "code",
   "execution_count": 12,
   "id": "a564d26a",
   "metadata": {},
   "outputs": [],
   "source": [
    "# prepare input data\n",
    "def prepare_inputs(X_train, X_test):\n",
    "    ohe = OneHotEncoder(handle_unknown='ignore')\n",
    "    ohe.fit(X_train)\n",
    "    X_train_enc = ohe.transform(X_train)\n",
    "    X_test_enc = ohe.transform(X_test)\n",
    "    return X_train_enc, X_test_enc"
   ]
  },
  {
   "cell_type": "code",
   "execution_count": 13,
   "id": "e43b96aa",
   "metadata": {},
   "outputs": [],
   "source": [
    "X = pd.read_csv('diabetic_data.csv')\n",
    "y = X['readmitted']\n",
    "X.drop(['readmitted'], axis = 1, inplace = True)"
   ]
  },
  {
   "cell_type": "markdown",
   "id": "113fdcea",
   "metadata": {},
   "source": [
    "Summary a short 2-4 sentence summary of your project, identifying the dataset(s) you used, what classification methods you investigated, and 1 or 2 main conclusions from your investigations\n",
    "\n",
    "### Experimental Setup:\n",
    "describe briefly how you conducted your experimental methodology. What metrics did you look at? e..g, just classification accuracy (or error), or other metrics (such as precision/recall for binary classifiers). How did you partition up your data? we recommend that at the start of your project you set aside a test dataset that is only used once at the end of your project for final evaluation of models (this will be a realistic test of your method), e.g., 20% randomly selected examples, or the specified test set if the dataset has such.  The rest of the data (e.g., the remaining 80%) can be partitioned into a training and validation set (e.g., 75% of the 80% (i.e., 60% of the total) for training and 25% of the 80% (i.e, 20% of the total) for validation, where the validation set can be used for hyperparameter tuning. Be clear on how you selected hyparameters: feel free to use pseudocode for example to describe precisely what you did. In reporting machine learning experiments it is important that your experiments are reproducible (for others to independently validate and recreate what you did), and reproducibility implies clear documentation."
   ]
  },
  {
   "cell_type": "code",
   "execution_count": 35,
   "id": "482aa905",
   "metadata": {},
   "outputs": [],
   "source": [
    "X_tr, X_te, y_tr, y_te = train_test_split(X, y, test_size=0.3, random_state=seed)\n",
    "\n",
    "X_train_enc, X_test_enc = prepare_inputs(X_tr, X_te)"
   ]
  },
  {
   "cell_type": "code",
   "execution_count": 17,
   "id": "57a18ab5",
   "metadata": {},
   "outputs": [
    {
     "data": {
      "text/plain": [
       "(71236, 49)"
      ]
     },
     "execution_count": 17,
     "metadata": {},
     "output_type": "execute_result"
    }
   ],
   "source": [
    "X_tr.shape"
   ]
  },
  {
   "cell_type": "code",
   "execution_count": 18,
   "id": "7238f038",
   "metadata": {},
   "outputs": [
    {
     "data": {
      "text/plain": [
       "(30530, 49)"
      ]
     },
     "execution_count": 18,
     "metadata": {},
     "output_type": "execute_result"
    }
   ],
   "source": [
    "X_te.shape"
   ]
  },
  {
   "cell_type": "code",
   "execution_count": 85,
   "id": "bb18a536",
   "metadata": {},
   "outputs": [
    {
     "data": {
      "text/plain": [
       "(71236, 127925)"
      ]
     },
     "execution_count": 85,
     "metadata": {},
     "output_type": "execute_result"
    }
   ],
   "source": [
    "X_train_enc.shape"
   ]
  },
  {
   "cell_type": "code",
   "execution_count": 78,
   "id": "dd99d666",
   "metadata": {},
   "outputs": [
    {
     "name": "stdout",
     "output_type": "stream",
     "text": [
      "Training Set Error: 0.0000\n",
      "Testing Set Error: 0.4877\n",
      "Feature used in the first split: 125689\n",
      "Threshold used in the first split: 0.5\n"
     ]
    }
   ],
   "source": [
    "dt_classifier = DecisionTreeClassifier()\n",
    "dt_classifier.fit(X_train_enc, y_tr)\n",
    "\n",
    "y_tr_pred = dt_classifier.predict(X_train_enc)\n",
    "training_error = 1 - accuracy_score(y_tr, y_tr_pred)\n",
    "\n",
    "y_te_pred = dt_classifier.predict(X_test_enc)\n",
    "testing_error = 1 - accuracy_score(y_te, y_te_pred)\n",
    "\n",
    "feature_used = dt_classifier.tree_.feature[0]\n",
    "threshold_used = dt_classifier.tree_.threshold[0]\n",
    "\n",
    "print(f\"Training Set Error: {training_error:.4f}\")\n",
    "print(f\"Testing Set Error: {testing_error:.4f}\")\n",
    "print(f\"Feature used in the first split: {feature_used}\")\n",
    "print(f\"Threshold used in the first split: {threshold_used}\")"
   ]
  },
  {
   "cell_type": "code",
   "execution_count": null,
   "id": "bef81a9c",
   "metadata": {},
   "outputs": [],
   "source": [
    "ensemble_model = GradientBoostingClassifier()\n",
    "ensemble_model.fit(X_train_enc, y_tr)\n",
    "\n",
    "y_tr_pred = ensemble_model.predict(X_train_enc)\n",
    "training_error = 1 - accuracy_score(y_tr, y_tr_pred)\n",
    "\n",
    "y_te_pred = ensemble_model.predict(X_test_enc)\n",
    "testing_error = 1 - accuracy_score(y_te, y_te_pred)"
   ]
  },
  {
   "cell_type": "code",
   "execution_count": 80,
   "id": "9ce8b8a7",
   "metadata": {
    "scrolled": true
   },
   "outputs": [
    {
     "name": "stdout",
     "output_type": "stream",
     "text": [
      "Training Set Error: 0.4065\n",
      "Testing Set Error: 0.4104\n"
     ]
    }
   ],
   "source": [
    "print(f\"Training Set Error: {training_error:.4f}\")\n",
    "print(f\"Testing Set Error: {testing_error:.4f}\")"
   ]
  },
  {
   "cell_type": "code",
   "execution_count": 81,
   "id": "3d46fe3f",
   "metadata": {},
   "outputs": [
    {
     "data": {
      "image/png": "[encoded data removed]",
      "text/plain": [
       "<Figure size 640x480 with 1 Axes>"
      ]
     },
     "metadata": {},
     "output_type": "display_data"
    }
   ],
   "source": [
    "# Define the depths to consider\n",
    "depths = range(1, 16)\n",
    "\n",
    "# Initialize empty lists to store accuracies\n",
    "train_accuracies = []\n",
    "test_accuracies = []\n",
    "\n",
    "# Train decision trees with varying depths and calculate accuracies\n",
    "for depth in depths:\n",
    "    # Train a decision tree classifier on the training data\n",
    "    dt_classifier = DecisionTreeClassifier(max_depth=depth)\n",
    "    dt_classifier.fit(X_train_enc, y_tr)\n",
    "    \n",
    "    # Calculate training set accuracy\n",
    "    y_tr_pred = dt_classifier.predict(X_train_enc)\n",
    "    train_accuracy = accuracy_score(y_tr, y_tr_pred)\n",
    "    train_accuracies.append(train_accuracy)\n",
    "    \n",
    "    # Calculate testing set accuracy\n",
    "    y_te_pred = dt_classifier.predict(X_test_enc)\n",
    "    test_accuracy = accuracy_score(y_te, y_te_pred)\n",
    "    test_accuracies.append(test_accuracy)\n",
    "\n",
    "# Plot the accuracies as a function of depth\n",
    "plt.plot(depths, train_accuracies, label='Training Set')\n",
    "plt.plot(depths, test_accuracies, label='Testing Set')\n",
    "plt.xlabel('Maximum Depth')\n",
    "plt.ylabel('Accuracy')\n",
    "plt.legend()\n",
    "plt.show()"
   ]
  },
  {
   "cell_type": "code",
   "execution_count": 36,
   "id": "3ad9f5aa",
   "metadata": {
    "scrolled": false
   },
   "outputs": [
    {
     "data": {
      "image/png": "[encoded data removed]",
      "text/plain": [
       "<Figure size 640x480 with 1 Axes>"
      ]
     },
     "metadata": {},
     "output_type": "display_data"
    }
   ],
   "source": [
    "# Define the minimum leaf samples to consider\n",
    "min_samples_leaf_values = range(1, 16)\n",
    "\n",
    "# Initialize empty lists to store accuracies\n",
    "train_errors = []\n",
    "test_errors = []\n",
    "\n",
    "# Train decision trees with varying minimum leaf samples and calculate accuracies\n",
    "for min_samples_leaf in min_samples_leaf_values:\n",
    "    # Train a decision tree classifier on the training data\n",
    "    dt_classifier = DecisionTreeClassifier(max_depth=3, min_samples_leaf=min_samples_leaf)\n",
    "    dt_classifier.fit(X_train_enc, y_tr)\n",
    "    \n",
    "    # Calculate training set accuracy\n",
    "    y_tr_pred = dt_classifier.predict(X_train_enc)\n",
    "    train_error = 1 - accuracy_score(y_tr, y_tr_pred)\n",
    "    train_errors.append(train_error)\n",
    "    \n",
    "    # Calculate testing set accuracy\n",
    "    y_te_pred = dt_classifier.predict(X_test_enc)\n",
    "    test_error = 1 - accuracy_score(y_te, y_te_pred)\n",
    "    test_errors.append(test_error)\n",
    "\n",
    "# Plot the accuracies as a function of minimum leaf samples\n",
    "plt.plot(min_samples_leaf_values, train_errors, label='Training Set')\n",
    "plt.plot(min_samples_leaf_values, test_errors, label='Testing Set')\n",
    "plt.xlabel('Minimum Leaf Samples')\n",
    "plt.ylabel('Error')\n",
    "plt.legend()\n",
    "plt.show()"
   ]
  },
  {
   "cell_type": "markdown",
   "id": "a47456ec",
   "metadata": {},
   "source": [
    "It seems to be inefficient to utilize decision tree method with a dataset with multiple categorical values. There are few reasons for it. The size of the dataset will span by a margin since we need to create new columns with binary data for each category of each features, using onehotencoder or similar functions such as get_dummies. There are some problems caused by this. Varying features will mess up feature importances. Since there are only few true values for each feature vectores. Also, computation will become exteremely expensive with this method.\n",
    "\n",
    "We couldn't asymtonically approach 60% accuracy on testing set with trained models. It seems that manipulating arbitrary variables of decision tree couldn't help with the issues. "
   ]
  },
  {
   "cell_type": "markdown",
   "id": "0d56812d",
   "metadata": {},
   "source": [
    "### 2.\n",
    "By reviewing the data, we could observe that there are numerous missing values.\n",
    "Approaching with columns that have sufficient numbers of data might increase accuracy of decision tree, hence we tried the same machine learning with smaller subsets of columns."
   ]
  },
  {
   "cell_type": "code",
   "execution_count": 6,
   "id": "27c1fa1d",
   "metadata": {},
   "outputs": [],
   "source": [
    "def sub_lists(my_list):\n",
    "    subs = []\n",
    "    for i in range(0, len(my_list)+1):\n",
    "        temp = [list(x) for x in itertools.combinations(my_list, i)]\n",
    "        if len(temp)>0:\n",
    "            subs.extend(temp)\n",
    "    return subs"
   ]
  },
  {
   "cell_type": "code",
   "execution_count": 15,
   "id": "623969f4",
   "metadata": {},
   "outputs": [],
   "source": [
    "k = 2\n",
    "tr_err_list, te_err_list, feature_list = [],[], []\n",
    "numb_features = []\n",
    "\n",
    "dt_classifier = DecisionTreeClassifier()\n",
    "\n",
    "\n",
    "\n",
    "#Looping over all possible combinations: from 11 choose k\n",
    "for combo in itertools.combinations(X.columns,k):\n",
    "    X_comb = X[list(combo)]\n",
    "    X_tr, X_te, y_tr, y_te = train_test_split(X_comb, y, test_size=0.3, random_state=seed)\n",
    "\n",
    "    X_train_enc, X_test_enc = prepare_inputs(X_tr, X_te)\n",
    "    \n",
    "    dt_classifier.fit(X_train_enc, y_tr)   #Store temp result \n",
    "    \n",
    "    y_tr_pred = dt_classifier.predict(X_train_enc)\n",
    "    training_error = 1 - accuracy_score(y_tr, y_tr_pred)\n",
    "\n",
    "    y_te_pred = dt_classifier.predict(X_test_enc)\n",
    "    testing_error = 1 - accuracy_score(y_te, y_te_pred)\n",
    "    \n",
    "    te_err_list.append(training_error)                  #Append lists\n",
    "    tr_err_list.append(testing_error)\n",
    "    feature_list.append(combo)\n",
    "    numb_features.append(len(combo))   \n",
    "    \n",
    "#Store in DataFrame\n",
    "df = pd.DataFrame({'numb_features': numb_features,'test_error': te_err_list, 'train_error':tr_err_list,'features':feature_list})"
   ]
  },
  {
   "cell_type": "code",
   "execution_count": 37,
   "id": "4bfd9170",
   "metadata": {},
   "outputs": [
    {
     "data": {
      "text/html": [
       "<div>\n",
       "<style scoped>\n",
       "    .dataframe tbody tr th:only-of-type {\n",
       "        vertical-align: middle;\n",
       "    }\n",
       "\n",
       "    .dataframe tbody tr th {\n",
       "        vertical-align: top;\n",
       "    }\n",
       "\n",
       "    .dataframe thead th {\n",
       "        text-align: right;\n",
       "    }\n",
       "</style>\n",
       "<table border=\"1\" class=\"dataframe\">\n",
       "  <thead>\n",
       "    <tr style=\"text-align: right;\">\n",
       "      <th></th>\n",
       "      <th>numb_features</th>\n",
       "      <th>train_error</th>\n",
       "      <th>features</th>\n",
       "      <th>testing_error</th>\n",
       "    </tr>\n",
       "  </thead>\n",
       "  <tbody>\n",
       "    <tr>\n",
       "      <th>81</th>\n",
       "      <td>2</td>\n",
       "      <td>0.140308</td>\n",
       "      <td>(patient_nbr, acarbose)</td>\n",
       "      <td>0.406715</td>\n",
       "    </tr>\n",
       "    <tr>\n",
       "      <th>51</th>\n",
       "      <td>2</td>\n",
       "      <td>0.140196</td>\n",
       "      <td>(patient_nbr, weight)</td>\n",
       "      <td>0.406780</td>\n",
       "    </tr>\n",
       "    <tr>\n",
       "      <th>49</th>\n",
       "      <td>2</td>\n",
       "      <td>0.140617</td>\n",
       "      <td>(patient_nbr, gender)</td>\n",
       "      <td>0.406911</td>\n",
       "    </tr>\n",
       "    <tr>\n",
       "      <th>72</th>\n",
       "      <td>2</td>\n",
       "      <td>0.139943</td>\n",
       "      <td>(patient_nbr, nateglinide)</td>\n",
       "      <td>0.406911</td>\n",
       "    </tr>\n",
       "    <tr>\n",
       "      <th>86</th>\n",
       "      <td>2</td>\n",
       "      <td>0.140617</td>\n",
       "      <td>(patient_nbr, citoglipton)</td>\n",
       "      <td>0.406944</td>\n",
       "    </tr>\n",
       "    <tr>\n",
       "      <th>90</th>\n",
       "      <td>2</td>\n",
       "      <td>0.140617</td>\n",
       "      <td>(patient_nbr, glimepiride-pioglitazone)</td>\n",
       "      <td>0.406944</td>\n",
       "    </tr>\n",
       "    <tr>\n",
       "      <th>89</th>\n",
       "      <td>2</td>\n",
       "      <td>0.140617</td>\n",
       "      <td>(patient_nbr, glipizide-metformin)</td>\n",
       "      <td>0.406944</td>\n",
       "    </tr>\n",
       "    <tr>\n",
       "      <th>91</th>\n",
       "      <td>2</td>\n",
       "      <td>0.140617</td>\n",
       "      <td>(patient_nbr, metformin-rosiglitazone)</td>\n",
       "      <td>0.406944</td>\n",
       "    </tr>\n",
       "    <tr>\n",
       "      <th>75</th>\n",
       "      <td>2</td>\n",
       "      <td>0.140617</td>\n",
       "      <td>(patient_nbr, acetohexamide)</td>\n",
       "      <td>0.406944</td>\n",
       "    </tr>\n",
       "    <tr>\n",
       "      <th>92</th>\n",
       "      <td>2</td>\n",
       "      <td>0.140617</td>\n",
       "      <td>(patient_nbr, metformin-pioglitazone)</td>\n",
       "      <td>0.406944</td>\n",
       "    </tr>\n",
       "    <tr>\n",
       "      <th>78</th>\n",
       "      <td>2</td>\n",
       "      <td>0.140617</td>\n",
       "      <td>(patient_nbr, tolbutamide)</td>\n",
       "      <td>0.406944</td>\n",
       "    </tr>\n",
       "    <tr>\n",
       "      <th>85</th>\n",
       "      <td>2</td>\n",
       "      <td>0.140617</td>\n",
       "      <td>(patient_nbr, examide)</td>\n",
       "      <td>0.406944</td>\n",
       "    </tr>\n",
       "    <tr>\n",
       "      <th>84</th>\n",
       "      <td>2</td>\n",
       "      <td>0.140589</td>\n",
       "      <td>(patient_nbr, tolazamide)</td>\n",
       "      <td>0.406944</td>\n",
       "    </tr>\n",
       "    <tr>\n",
       "      <th>83</th>\n",
       "      <td>2</td>\n",
       "      <td>0.140603</td>\n",
       "      <td>(patient_nbr, troglitazone)</td>\n",
       "      <td>0.406944</td>\n",
       "    </tr>\n",
       "    <tr>\n",
       "      <th>73</th>\n",
       "      <td>2</td>\n",
       "      <td>0.140547</td>\n",
       "      <td>(patient_nbr, chlorpropamide)</td>\n",
       "      <td>0.406977</td>\n",
       "    </tr>\n",
       "    <tr>\n",
       "      <th>82</th>\n",
       "      <td>2</td>\n",
       "      <td>0.140575</td>\n",
       "      <td>(patient_nbr, miglitol)</td>\n",
       "      <td>0.406977</td>\n",
       "    </tr>\n",
       "    <tr>\n",
       "      <th>48</th>\n",
       "      <td>2</td>\n",
       "      <td>0.139269</td>\n",
       "      <td>(patient_nbr, race)</td>\n",
       "      <td>0.407009</td>\n",
       "    </tr>\n",
       "    <tr>\n",
       "      <th>88</th>\n",
       "      <td>2</td>\n",
       "      <td>0.139929</td>\n",
       "      <td>(patient_nbr, glyburide-metformin)</td>\n",
       "      <td>0.407009</td>\n",
       "    </tr>\n",
       "    <tr>\n",
       "      <th>80</th>\n",
       "      <td>2</td>\n",
       "      <td>0.134511</td>\n",
       "      <td>(patient_nbr, rosiglitazone)</td>\n",
       "      <td>0.407599</td>\n",
       "    </tr>\n",
       "    <tr>\n",
       "      <th>71</th>\n",
       "      <td>2</td>\n",
       "      <td>0.138554</td>\n",
       "      <td>(patient_nbr, repaglinide)</td>\n",
       "      <td>0.407632</td>\n",
       "    </tr>\n",
       "  </tbody>\n",
       "</table>\n",
       "</div>"
      ],
      "text/plain": [
       "    numb_features  train_error                                 features  \\\n",
       "81              2     0.140308                  (patient_nbr, acarbose)   \n",
       "51              2     0.140196                    (patient_nbr, weight)   \n",
       "49              2     0.140617                    (patient_nbr, gender)   \n",
       "72              2     0.139943               (patient_nbr, nateglinide)   \n",
       "86              2     0.140617               (patient_nbr, citoglipton)   \n",
       "90              2     0.140617  (patient_nbr, glimepiride-pioglitazone)   \n",
       "89              2     0.140617       (patient_nbr, glipizide-metformin)   \n",
       "91              2     0.140617   (patient_nbr, metformin-rosiglitazone)   \n",
       "75              2     0.140617             (patient_nbr, acetohexamide)   \n",
       "92              2     0.140617    (patient_nbr, metformin-pioglitazone)   \n",
       "78              2     0.140617               (patient_nbr, tolbutamide)   \n",
       "85              2     0.140617                   (patient_nbr, examide)   \n",
       "84              2     0.140589                (patient_nbr, tolazamide)   \n",
       "83              2     0.140603              (patient_nbr, troglitazone)   \n",
       "73              2     0.140547            (patient_nbr, chlorpropamide)   \n",
       "82              2     0.140575                  (patient_nbr, miglitol)   \n",
       "48              2     0.139269                      (patient_nbr, race)   \n",
       "88              2     0.139929       (patient_nbr, glyburide-metformin)   \n",
       "80              2     0.134511             (patient_nbr, rosiglitazone)   \n",
       "71              2     0.138554               (patient_nbr, repaglinide)   \n",
       "\n",
       "    testing_error  \n",
       "81       0.406715  \n",
       "51       0.406780  \n",
       "49       0.406911  \n",
       "72       0.406911  \n",
       "86       0.406944  \n",
       "90       0.406944  \n",
       "89       0.406944  \n",
       "91       0.406944  \n",
       "75       0.406944  \n",
       "92       0.406944  \n",
       "78       0.406944  \n",
       "85       0.406944  \n",
       "84       0.406944  \n",
       "83       0.406944  \n",
       "73       0.406977  \n",
       "82       0.406977  \n",
       "48       0.407009  \n",
       "88       0.407009  \n",
       "80       0.407599  \n",
       "71       0.407632  "
      ]
     },
     "execution_count": 37,
     "metadata": {},
     "output_type": "execute_result"
    }
   ],
   "source": [
    "df.sort_values(by='testing_error', ascending=True)[:20]"
   ]
  },
  {
   "cell_type": "code",
   "execution_count": 39,
   "id": "ed00c41f",
   "metadata": {},
   "outputs": [],
   "source": [
    "df.sort_values(by='testing_error', ascending=True).to_csv(\"df_subsets_results.csv\")"
   ]
  },
  {
   "cell_type": "markdown",
   "id": "b33c3c8c",
   "metadata": {},
   "source": [
    "Not such improvement could be found with this experimental setup."
   ]
  },
  {
   "cell_type": "markdown",
   "id": "929db1f4",
   "metadata": {},
   "source": [
    "### 3.\n",
    "This experiment will use different training datasets, which is filtered from the original one with human insights. We could observe numerous missing values from multiple columns, and those could be creating bias in our training result. Also, object data that could be converted to numerical values with human insights are manually converted. Furthermore, to minimize the bias, we used labelencoder to convert remaining categorical data, instead of using onehotencoder."
   ]
  },
  {
   "cell_type": "code",
   "execution_count": 8,
   "id": "e345936c",
   "metadata": {},
   "outputs": [],
   "source": [
    "X = pd.read_csv('diabetic_data.csv')\n",
    "y = X['readmitted']\n",
    "X.drop(['readmitted'], axis = 1, inplace = True)\n",
    "\n",
    "# get drop list with columns consisted with 80% or more of same values. Mostly null values.\n",
    "drop_list = []\n",
    "for col in X.columns:\n",
    "    X[col].replace('?', None, inplace = True)\n",
    "    X[col].replace('No', 0, inplace = True)\n",
    "    X[col].replace('None', 0, inplace = True)\n",
    "    \n",
    "    val_counts = X[col].value_counts()\n",
    "    if val_counts.iloc[0] / val_counts.sum() > 0.8:\n",
    "        drop_list.append(col)\n",
    "\n",
    "for elem in drop_list:\n",
    "    X.drop([elem], axis = 1, inplace = True)\n",
    "\n",
    "#prepare y with int values\n",
    "y.replace('>30', 2, inplace = True)\n",
    "y.replace('<30', 1, inplace = True)\n",
    "y.replace('NO', 0, inplace = True)\n",
    "\n",
    "#prepare age column by converting object to int values\n",
    "for val in list(set(X['age'].values)):\n",
    "    X['age'].replace(val, val[-3:-1], inplace = True)\n",
    "\n",
    "X['age'].replace('00', 100, inplace = True)\n",
    "\n",
    "for val in list(set(X['age'].values)):\n",
    "    X['age'].replace(val, int(val), inplace = True)\n",
    "\n",
    "#prepare insulin column converting objects to int\n",
    "X['insulin'].replace('Down', -1, inplace = True)\n",
    "X['insulin'].replace('No', 0, inplace = True)\n",
    "X['insulin'].replace('Steady', 1, inplace = True)\n",
    "X['insulin'].replace('Up', 2, inplace = True)\n",
    "\n",
    "#prepare change column converting objects to int\n",
    "X['change'].replace('Ch', 1, inplace = True)\n",
    "X['change'].replace('No', 0, inplace = True)\n",
    "\n",
    "#prepare diabetesMed column\n",
    "X['diabetesMed'].replace('No', 0, inplace = True)\n",
    "X['diabetesMed'].replace('Yes', 1, inplace = True)"
   ]
  },
  {
   "cell_type": "code",
   "execution_count": 9,
   "id": "2dbcc34d",
   "metadata": {},
   "outputs": [
    {
     "data": {
      "text/plain": [
       "0.00018670282805652183"
      ]
     },
     "execution_count": 9,
     "metadata": {},
     "output_type": "execute_result"
    }
   ],
   "source": [
    "count = 0\n",
    "for val in list(set(X['diag_1'].values)):\n",
    "    if val != None and val[0].isalpha():\n",
    "        count += 1\n",
    "    elif val ==None:\n",
    "        pass\n",
    "    else:\n",
    "        X['diag_1'].replace(val, float(val), inplace = True)\n",
    "        \n",
    "count / len(X['diag_1'])"
   ]
  },
  {
   "cell_type": "code",
   "execution_count": 2,
   "id": "ad5071f6",
   "metadata": {},
   "outputs": [],
   "source": [
    "for val in list(set(X['diag_1'].values)):\n",
    "    if val != None and val[0].isalpha():\n",
    "        X['diag_1'].replace(val, None, inplace = True)\n",
    "    elif val ==None:\n",
    "        pass\n",
    "    else:\n",
    "        X['diag_1'].replace(val, float(val), inplace = True)\n",
    "\n",
    "for val in list(set(X['diag_2'].values)):\n",
    "    if val != None and val[0].isalpha():\n",
    "        X['diag_2'].replace(val, None, inplace = True)\n",
    "    elif val ==None:\n",
    "        pass\n",
    "    else:\n",
    "        X['diag_2'].replace(val, float(val), inplace = True)\n",
    "\n",
    "for val in list(set(X['diag_3'].values)):\n",
    "    if val != None and val[0].isalpha():\n",
    "        X['diag_3'].replace(val, None, inplace = True)\n",
    "    elif val ==None:\n",
    "        pass\n",
    "    else:\n",
    "        X['diag_3'].replace(val, float(val), inplace = True)\n",
    "\n",
    "X.fillna(X.mean(), inplace=True)\n",
    "\n",
    "#labelEncoder method\n",
    "le = LabelEncoder()\n",
    "for col in X.columns:\n",
    "    if X.dtypes[col] == object:\n",
    "        X[col] = le.fit_transform(X[col])\n",
    "        \n",
    "# X = X.apply(LabelEncoder().fit_transform)"
   ]
  },
  {
   "cell_type": "code",
   "execution_count": 3,
   "id": "b481fbb1",
   "metadata": {},
   "outputs": [
    {
     "data": {
      "text/plain": [
       "encounter_id                  int64\n",
       "patient_nbr                   int64\n",
       "race                          int64\n",
       "gender                        int64\n",
       "age                           int64\n",
       "weight                        int64\n",
       "admission_type_id             int64\n",
       "discharge_disposition_id      int64\n",
       "admission_source_id           int64\n",
       "time_in_hospital              int64\n",
       "payer_code                    int64\n",
       "medical_specialty             int64\n",
       "num_lab_procedures            int64\n",
       "num_procedures                int64\n",
       "num_medications               int64\n",
       "number_inpatient              int64\n",
       "diag_1                      float64\n",
       "diag_2                      float64\n",
       "diag_3                      float64\n",
       "number_diagnoses              int64\n",
       "insulin                       int64\n",
       "change                        int64\n",
       "diabetesMed                   int64\n",
       "dtype: object"
      ]
     },
     "execution_count": 3,
     "metadata": {},
     "output_type": "execute_result"
    }
   ],
   "source": [
    "X.dtypes"
   ]
  },
  {
   "cell_type": "code",
   "execution_count": 5,
   "id": "4869becd",
   "metadata": {},
   "outputs": [
    {
     "data": {
      "text/plain": [
       "(101766, 23)"
      ]
     },
     "execution_count": 5,
     "metadata": {},
     "output_type": "execute_result"
    }
   ],
   "source": [
    "X.shape"
   ]
  },
  {
   "cell_type": "code",
   "execution_count": 7,
   "id": "b5f4c3e1",
   "metadata": {},
   "outputs": [],
   "source": [
    "X_tr, X_te, y_tr, y_te = train_test_split(X, y, test_size=0.3, random_state=seed)\n",
    "\n",
    "X_train_enc, X_test_enc = X_tr, X_te"
   ]
  },
  {
   "cell_type": "code",
   "execution_count": 7,
   "id": "56cdfe64",
   "metadata": {},
   "outputs": [
    {
     "name": "stdout",
     "output_type": "stream",
     "text": [
      "Decision Tree classifier with manually filtered dataset\n",
      "Training Set Error: 0.0000\n",
      "Testing Set Error: 0.5163\n",
      "Feature used in the first split: 15\n",
      "Threshold used in the first split: 0.5\n"
     ]
    }
   ],
   "source": [
    "dt_classifier = DecisionTreeClassifier()\n",
    "dt_classifier.fit(X_train_enc, y_tr)\n",
    "\n",
    "y_tr_pred = dt_classifier.predict(X_train_enc)\n",
    "training_error = 1 - accuracy_score(y_tr, y_tr_pred)\n",
    "\n",
    "y_te_pred = dt_classifier.predict(X_test_enc)\n",
    "testing_error = 1 - accuracy_score(y_te, y_te_pred)\n",
    "\n",
    "feature_used = dt_classifier.tree_.feature[0]\n",
    "threshold_used = dt_classifier.tree_.threshold[0]\n",
    "\n",
    "print(\"Decision Tree classifier with manually filtered dataset\")\n",
    "print(f\"Training Set Error: {training_error:.4f}\")\n",
    "print(f\"Testing Set Error: {testing_error:.4f}\")\n",
    "print(f\"Feature used in the first split: {feature_used}\")\n",
    "print(f\"Threshold used in the first split: {threshold_used}\")"
   ]
  },
  {
   "cell_type": "code",
   "execution_count": 8,
   "id": "a679b404",
   "metadata": {},
   "outputs": [
    {
     "name": "stdout",
     "output_type": "stream",
     "text": [
      "Gradient Boost Classifier with manually filtered dataset \n",
      "Training Set Error: 0.3885\n",
      "Testing Set Error: 0.3975\n"
     ]
    }
   ],
   "source": [
    "ensemble_model = GradientBoostingClassifier()\n",
    "ensemble_model.fit(X_train_enc, y_tr)\n",
    "\n",
    "y_tr_pred = ensemble_model.predict(X_train_enc)\n",
    "training_error = 1 - accuracy_score(y_tr, y_tr_pred)\n",
    "\n",
    "y_te_pred = ensemble_model.predict(X_test_enc)\n",
    "testing_error = 1 - accuracy_score(y_te, y_te_pred)\n",
    "print(\"Gradient Boost Classifier with manually filtered dataset \")\n",
    "print(f\"Training Set Error: {training_error:.4f}\")\n",
    "print(f\"Testing Set Error: {testing_error:.4f}\")"
   ]
  },
  {
   "cell_type": "code",
   "execution_count": 9,
   "id": "f7064e0f",
   "metadata": {},
   "outputs": [
    {
     "name": "stdout",
     "output_type": "stream",
     "text": [
      "Random Forest Classifier with manually filtered dataset \n",
      "Training Set Error: 0.4604\n",
      "Testing Set Error: 0.4620\n"
     ]
    }
   ],
   "source": [
    "from sklearn.ensemble import RandomForestClassifier\n",
    "rf_clf = RandomForestClassifier(max_depth=2, random_state=0)\n",
    "rf_clf.fit(X_train_enc, y_tr)\n",
    "\n",
    "y_tr_pred = rf_clf.predict(X_train_enc)\n",
    "training_error = 1 - accuracy_score(y_tr, y_tr_pred)\n",
    "\n",
    "y_te_pred = rf_clf.predict(X_test_enc)\n",
    "print(\"Random Forest Classifier with manually filtered dataset \")\n",
    "testing_error = 1 - accuracy_score(y_te, y_te_pred)\n",
    "print(f\"Training Set Error: {training_error:.4f}\")\n",
    "print(f\"Testing Set Error: {testing_error:.4f}\")"
   ]
  },
  {
   "cell_type": "markdown",
   "id": "c0297840",
   "metadata": {},
   "source": [
    "Gradient Boosting Classifier provided the best result so far. We will now fine tune the Gradient Boosting Classifier with different parameters."
   ]
  },
  {
   "cell_type": "markdown",
   "id": "ccd392d9",
   "metadata": {},
   "source": [
    "### 3. 2\n",
    "Continueing with the same dataset, we will fine tune Gradient Boosting Classifier with different parameters."
   ]
  },
  {
   "cell_type": "code",
   "execution_count": 8,
   "id": "f348202b",
   "metadata": {},
   "outputs": [
    {
     "data": {
      "image/png": "[encoded data removed]",
      "text/plain": [
       "<Figure size 640x480 with 1 Axes>"
      ]
     },
     "metadata": {},
     "output_type": "display_data"
    }
   ],
   "source": [
    "# Define the depths to consider\n",
    "depths = range(1, 16)\n",
    "\n",
    "# Initialize empty lists to store accuracies\n",
    "train_accuracies = []\n",
    "test_accuracies = []\n",
    "\n",
    "# Train decision trees with varying depths and calculate accuracies\n",
    "for depth in depths:\n",
    "    # Train a decision tree classifier on the training data\n",
    "    ensemble_model = GradientBoostingClassifier(max_depth=depth)\n",
    "    ensemble_model.fit(X_train_enc, y_tr)\n",
    "    \n",
    "    # Calculate training set accuracy\n",
    "    y_tr_pred = ensemble_model.predict(X_train_enc)\n",
    "    train_accuracy = accuracy_score(y_tr, y_tr_pred)\n",
    "    train_accuracies.append(train_accuracy)\n",
    "    \n",
    "    # Calculate testing set accuracy\n",
    "    y_te_pred = ensemble_model.predict(X_test_enc)\n",
    "    test_accuracy = accuracy_score(y_te, y_te_pred)\n",
    "    test_accuracies.append(test_accuracy)\n",
    "\n",
    "# Plot the accuracies as a function of depth\n",
    "plt.plot(depths, train_accuracies, label='Training Set')\n",
    "plt.plot(depths, test_accuracies, label='Testing Set')\n",
    "plt.xlabel('Maximum Depth')\n",
    "plt.ylabel('Accuracy')\n",
    "plt.legend()\n",
    "plt.show()"
   ]
  },
  {
   "cell_type": "code",
   "execution_count": 9,
   "id": "b882b4e9",
   "metadata": {},
   "outputs": [
    {
     "data": {
      "image/png": "[encoded data removed]",
      "text/plain": [
       "<Figure size 640x480 with 1 Axes>"
      ]
     },
     "metadata": {},
     "output_type": "display_data"
    }
   ],
   "source": [
    "# Define the minimum leaf samples to consider\n",
    "min_samples_leaf_values = range(1, 16)\n",
    "\n",
    "# Initialize empty lists to store accuracies\n",
    "train_errors = []\n",
    "test_errors = []\n",
    "\n",
    "# Train decision trees with varying minimum leaf samples and calculate accuracies\n",
    "for min_samples_leaf in min_samples_leaf_values:\n",
    "    # Train a decision tree classifier on the training data\n",
    "    dt_classifier = GradientBoostingClassifier(max_depth=3, min_samples_leaf=min_samples_leaf)\n",
    "    dt_classifier.fit(X_train_enc, y_tr)\n",
    "    \n",
    "    # Calculate training set accuracy\n",
    "    y_tr_pred = dt_classifier.predict(X_train_enc)\n",
    "    train_error = 1 - accuracy_score(y_tr, y_tr_pred)\n",
    "    train_errors.append(train_error)\n",
    "    \n",
    "    # Calculate testing set accuracy\n",
    "    y_te_pred = dt_classifier.predict(X_test_enc)\n",
    "    test_error = 1 - accuracy_score(y_te, y_te_pred)\n",
    "    test_errors.append(test_error)\n",
    "\n",
    "# Plot the accuracies as a function of minimum leaf samples\n",
    "plt.plot(min_samples_leaf_values, train_errors, label='Training Set')\n",
    "plt.plot(min_samples_leaf_values, test_errors, label='Testing Set')\n",
    "plt.xlabel('Minimum Leaf Samples')\n",
    "plt.ylabel('Error')\n",
    "plt.legend()\n",
    "plt.show()"
   ]
  },
  {
   "cell_type": "markdown",
   "id": "0a72d5a1",
   "metadata": {},
   "source": [
    "We could observe the depth = 3 resulted the lowest error rate, and have linear relation with the error rate, while the minimum leaf samples don't seem to have linear relation to it."
   ]
  },
  {
   "cell_type": "code",
   "execution_count": 6,
   "id": "c04c6c91",
   "metadata": {},
   "outputs": [],
   "source": [
    "from sklearn import preprocessing\n",
    "\n",
    "min_max_scaler = preprocessing.MinMaxScaler()\n",
    "X = min_max_scaler.fit_transform(X)\n",
    "\n",
    "X_tr, X_te, y_tr, y_te = train_test_split(X, y, test_size=0.3, random_state=seed)\n",
    "\n",
    "X_train_enc, X_test_enc = X_tr, X_te"
   ]
  },
  {
   "cell_type": "code",
   "execution_count": 7,
   "id": "3a31a3f4",
   "metadata": {},
   "outputs": [
    {
     "name": "stdout",
     "output_type": "stream",
     "text": [
      "Gradient Boost Classifier with manually filtered dataset \n",
      "Training Set Error: 0.3759\n",
      "Testing Set Error: 0.3919\n"
     ]
    }
   ],
   "source": [
    "ensemble_model = GradientBoostingClassifier(max_depth=4)\n",
    "ensemble_model.fit(X_train_enc, y_tr)\n",
    "\n",
    "y_tr_pred = ensemble_model.predict(X_train_enc)\n",
    "training_error = 1 - accuracy_score(y_tr, y_tr_pred)\n",
    "\n",
    "y_te_pred = ensemble_model.predict(X_test_enc)\n",
    "testing_error = 1 - accuracy_score(y_te, y_te_pred)\n",
    "print(\"Gradient Boost Classifier with manually filtered dataset \")\n",
    "print(f\"Training Set Error: {training_error:.4f}\")\n",
    "print(f\"Testing Set Error: {testing_error:.4f}\")"
   ]
  },
  {
   "cell_type": "code",
   "execution_count": null,
   "id": "7605afdb",
   "metadata": {},
   "outputs": [],
   "source": []
  }
 ],
 "metadata": {
  "colab": {
   "collapsed_sections": [],
   "provenance": []
  },
  "kernelspec": {
   "display_name": "Python 3 (ipykernel)",
   "language": "python",
   "name": "python3"
  },
  "language_info": {
   "codemirror_mode": {
    "name": "ipython",
    "version": 3
   },
   "file_extension": ".py",
   "mimetype": "text/x-python",
   "name": "python",
   "nbconvert_exporter": "python",
   "pygments_lexer": "ipython3",
   "version": "3.10.9"
  }
 },
 "nbformat": 4,
 "nbformat_minor": 5
}
